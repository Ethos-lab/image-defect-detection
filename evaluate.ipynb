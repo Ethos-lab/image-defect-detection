{
 "cells": [
  {
   "cell_type": "code",
   "execution_count": 8,
   "metadata": {},
   "outputs": [
    {
     "name": "stdout",
     "output_type": "stream",
     "text": [
      "CUDA available: True\n"
     ]
    }
   ],
   "source": [
    "import argparse\n",
    "import torch\n",
    "from torchvision import transforms\n",
    "\n",
    "from retinanet import model\n",
    "from retinanet.dataloader import fileDataset, Resizer, Normalizer\n",
    "from retinanet import csv_eval\n",
    "\n",
    "assert torch.__version__.split('.')[0] == '1'\n",
    "print('CUDA available: {}'.format(torch.cuda.is_available()))"
   ]
  },
  {
   "cell_type": "code",
   "execution_count": 2,
   "metadata": {},
   "outputs": [],
   "source": [
    "# import images dataset\n",
    "import os\n",
    "from PIL import Image\n",
    "#import cv2\n",
    "\n",
    "\n",
    "BATCH_SIZE = 16\n",
    "IMG_SIZE = (480, 640)\n",
    "NUM_EPOCHS = 10\n",
    "\n",
    "#dataset_description_path = \"C:\\Users\\Drake Li\\Desktop\\cwd\\ds-stuff\\data\\list.txt\"\n",
    "dataset_path = \"./data/cloth-defect-detect\"\n",
    "anno_path=\"./data/cloth-defect-detect/anno_train.json\"\n",
    "labels_path = \"./cloth-defect-detect-classes.json\"\n",
    "model_path = \"./cloth-defect-detect.pth\"    #save to here\n"
   ]
  },
  {
   "cell_type": "code",
   "execution_count": 3,
   "metadata": {},
   "outputs": [
    {
     "name": "stdout",
     "output_type": "stream",
     "text": [
      "./data/cloth-defect-detect\\anno_train.json\n",
      "2047\n",
      "0907A1_081eed8e1d64b06a1201909071528592.jpg\n",
      "./data/cloth-defect-detect\\defect\\0907A1_081eed8e1d64b06a1201909071528592\\0907A1_081eed8e1d64b06a1201909071528592.jpg\n",
      "files:2047\n",
      "anno len:16457\n",
      "{'缝头': 0, '缝头印': 1, '沾污': 2, '漏印': 3, '虫粘': 4, '花毛': 5, '水印': 6, '色差': 7, '褶子': 8, '破洞': 9, '织疵': 10, '蜡斑': 11, '错花': 12, '其他': 13, '网折': 14}\n",
      "{0: '缝头', 1: '缝头印', 2: '沾污', 3: '漏印', 4: '虫粘', 5: '花毛', 6: '水印', 7: '色差', 8: '褶子', 9: '破洞', 10: '织疵', 11: '蜡斑', 12: '错花', 13: '其他', 14: '网折'}\n",
      "[{'x1': 1, 'x2': 4087, 'y1': 1073, 'y2': 1198, 'class': '缝头'}]\n",
      "[{'x1': 4, 'x2': 4085, 'y1': 760, 'y2': 881, 'class': '缝头印'}]\n",
      "[{'x1': 2111, 'x2': 2182, 'y1': 1561, 'y2': 1596, 'class': '沾污'}]\n",
      "[{'x1': 0, 'x2': 390, 'y1': 0, 'y2': 1691, 'class': '漏印'}]\n",
      "[{'x1': 0, 'x2': 4096, 'y1': 1116, 'y2': 1205, 'class': '缝头'}]\n"
     ]
    }
   ],
   "source": [
    "import random\n",
    "import json\n",
    "import os\n",
    "\n",
    "dataset=[]\n",
    "\n",
    "classes = {}\n",
    "labelcounter=0\n",
    "annolabels=None\n",
    "\n",
    "img_fn_dict={}\n",
    "\n",
    "\n",
    "for i,fn in enumerate(os.listdir(dataset_path)):\n",
    "    datapath=os.path.join(dataset_path,fn)\n",
    "    if(os.path.isdir(datapath)==False):\n",
    "        print(datapath)\n",
    "        continue\n",
    "    #either defect or normal\n",
    "    if(fn==\"defect\"):\n",
    "        \n",
    "        #load defect\n",
    "        for j,fn_defect in enumerate(os.listdir(datapath)):\n",
    "            #print(fn_defect)\n",
    "            img_fullpath=os.path.join(datapath,fn_defect,fn_defect+\".jpg\")\n",
    "            img_fn_dict[fn_defect+\".jpg\"]=img_fullpath\n",
    "            #print(img_fullpath)\n",
    "            \n",
    "            continue\n",
    "#             img_bytes = Image.open(img_fullpath)\n",
    "#             img = torchvision.transforms.functional.resize(img=img_bytes,size=IMG_SIZE)#resize img\n",
    "#             img=(np.array(img)/255.0).astype(np.float32)\n",
    "#             print(img.shape)\n",
    "print(len(img_fn_dict))\n",
    "for item in img_fn_dict:\n",
    "    print(item)\n",
    "    print(img_fn_dict[item])\n",
    "    break\n",
    "    \n",
    "dataset_val =fileDataset(dataset_path,anno_path,img_fn_dict,IMG_SIZE=IMG_SIZE,transform=transforms.Compose([Normalizer(), Resizer()]))"
   ]
  },
  {
   "cell_type": "code",
   "execution_count": 4,
   "metadata": {},
   "outputs": [],
   "source": [
    "retinanet=torch.load(model_path)"
   ]
  },
  {
   "cell_type": "code",
   "execution_count": 5,
   "metadata": {},
   "outputs": [],
   "source": [
    "retinanet = retinanet.cuda()\n",
    "retinanet.training = False\n",
    "retinanet.eval()\n",
    "retinanet.module.freeze_bn()"
   ]
  },
  {
   "cell_type": "code",
   "execution_count": 6,
   "metadata": {},
   "outputs": [
    {
     "name": "stdout",
     "output_type": "stream",
     "text": [
      "<retinanet.dataloader.fileDataset object at 0x00000223852543C8>\n"
     ]
    }
   ],
   "source": [
    "print(dataset_val)"
   ]
  },
  {
   "cell_type": "code",
   "execution_count": 7,
   "metadata": {},
   "outputs": [
    {
     "name": "stdout",
     "output_type": "stream",
     "text": [
      "2047/2047\n",
      "mAP:\n",
      "缝头: 0.0\n"
     ]
    },
    {
     "ename": "IndexError",
     "evalue": "index -1 is out of bounds for axis 0 with size 0",
     "output_type": "error",
     "traceback": [
      "\u001b[1;31m---------------------------------------------------------------------------\u001b[0m",
      "\u001b[1;31mIndexError\u001b[0m                                Traceback (most recent call last)",
      "\u001b[1;32m<ipython-input-7-9be945f09bbc>\u001b[0m in \u001b[0;36m<module>\u001b[1;34m\u001b[0m\n\u001b[1;32m----> 1\u001b[1;33m \u001b[0mreturn_vals\u001b[0m\u001b[1;33m=\u001b[0m\u001b[0mcsv_eval\u001b[0m\u001b[1;33m.\u001b[0m\u001b[0mevaluate\u001b[0m\u001b[1;33m(\u001b[0m\u001b[0mdataset_val\u001b[0m\u001b[1;33m,\u001b[0m \u001b[0mretinanet\u001b[0m\u001b[1;33m,\u001b[0m\u001b[0miou_threshold\u001b[0m\u001b[1;33m=\u001b[0m\u001b[1;36m0.5\u001b[0m\u001b[1;33m)\u001b[0m\u001b[1;33m\u001b[0m\u001b[0m\n\u001b[0m\u001b[0;32m      2\u001b[0m \u001b[0mprint\u001b[0m\u001b[1;33m(\u001b[0m\u001b[0mreturn_vals\u001b[0m\u001b[1;33m)\u001b[0m\u001b[1;33m\u001b[0m\u001b[0m\n",
      "\u001b[1;32mD:\\Bravo\\git_repos\\image-defect-detection\\retinanet\\csv_eval.py\u001b[0m in \u001b[0;36mevaluate\u001b[1;34m(generator, retinanet, iou_threshold, score_threshold, max_detections, save_path)\u001b[0m\n\u001b[0;32m    238\u001b[0m         \u001b[0mlabel_name\u001b[0m \u001b[1;33m=\u001b[0m \u001b[0mgenerator\u001b[0m\u001b[1;33m.\u001b[0m\u001b[0mlabel_to_name\u001b[0m\u001b[1;33m(\u001b[0m\u001b[0mlabel\u001b[0m\u001b[1;33m)\u001b[0m\u001b[1;33m\u001b[0m\u001b[0m\n\u001b[0;32m    239\u001b[0m         \u001b[0mprint\u001b[0m\u001b[1;33m(\u001b[0m\u001b[1;34m'{}: {}'\u001b[0m\u001b[1;33m.\u001b[0m\u001b[0mformat\u001b[0m\u001b[1;33m(\u001b[0m\u001b[0mlabel_name\u001b[0m\u001b[1;33m,\u001b[0m \u001b[0maverage_precisions\u001b[0m\u001b[1;33m[\u001b[0m\u001b[0mlabel\u001b[0m\u001b[1;33m]\u001b[0m\u001b[1;33m[\u001b[0m\u001b[1;36m0\u001b[0m\u001b[1;33m]\u001b[0m\u001b[1;33m)\u001b[0m\u001b[1;33m)\u001b[0m\u001b[1;33m\u001b[0m\u001b[0m\n\u001b[1;32m--> 240\u001b[1;33m         \u001b[0mprint\u001b[0m\u001b[1;33m(\u001b[0m\u001b[1;34m\"Precision: \"\u001b[0m\u001b[1;33m,\u001b[0m\u001b[0mprecision\u001b[0m\u001b[1;33m[\u001b[0m\u001b[1;33m-\u001b[0m\u001b[1;36m1\u001b[0m\u001b[1;33m]\u001b[0m\u001b[1;33m)\u001b[0m\u001b[1;33m\u001b[0m\u001b[0m\n\u001b[0m\u001b[0;32m    241\u001b[0m         \u001b[0mprint\u001b[0m\u001b[1;33m(\u001b[0m\u001b[1;34m\"Recall: \"\u001b[0m\u001b[1;33m,\u001b[0m\u001b[0mrecall\u001b[0m\u001b[1;33m[\u001b[0m\u001b[1;33m-\u001b[0m\u001b[1;36m1\u001b[0m\u001b[1;33m]\u001b[0m\u001b[1;33m)\u001b[0m\u001b[1;33m\u001b[0m\u001b[0m\n\u001b[0;32m    242\u001b[0m \u001b[1;33m\u001b[0m\u001b[0m\n",
      "\u001b[1;31mIndexError\u001b[0m: index -1 is out of bounds for axis 0 with size 0"
     ]
    }
   ],
   "source": [
    "return_vals=csv_eval.evaluate(dataset_val, retinanet,iou_threshold=0.5)\n",
    "print(return_vals)"
   ]
  },
  {
   "cell_type": "code",
   "execution_count": null,
   "metadata": {},
   "outputs": [],
   "source": []
  }
 ],
 "metadata": {
  "kernelspec": {
   "display_name": "Python 3",
   "language": "python",
   "name": "python3"
  },
  "language_info": {
   "codemirror_mode": {
    "name": "ipython",
    "version": 3
   },
   "file_extension": ".py",
   "mimetype": "text/x-python",
   "name": "python",
   "nbconvert_exporter": "python",
   "pygments_lexer": "ipython3",
   "version": "3.6.5"
  }
 },
 "nbformat": 4,
 "nbformat_minor": 4
}
